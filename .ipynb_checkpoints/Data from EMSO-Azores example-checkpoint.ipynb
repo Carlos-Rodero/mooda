{
 "cells": [
  {
   "cell_type": "markdown",
   "metadata": {},
   "source": [
    "# Analyze data from the Azores site of EMSO  "
   ]
  },
  {
   "cell_type": "markdown",
   "metadata": {},
   "source": [
    "An EGIM prototype was deployed at Lucky Strike hydrothermal vent site, 25 m south west of the active edifice Tour Eiffel, to monitor local hydrodynamic variability and complement the data obtained by the numerous sensors set on this site: oceanographic mooring deployed south of the vent field, the multidisciplinary Seamon East node, autonomous current meters, array of temperature probes.\n",
    "\n",
    "<img src=\"https://www.seanoe.org/data/00454/56522/illustrations/illustration-41.gif\" alt=\"Map of EGIM in Azores\" style=\"width: 50%;\"/>\n",
    "\n",
    "The owners of the EGIM have not ingested the data to the Data Manager Portal (DMP) of EMSO, but they published the RAW data in CSV on other websites. For this example, we are going to use the RAW data."
   ]
  },
  {
   "cell_type": "code",
   "execution_count": 1,
   "metadata": {
    "collapsed": true
   },
   "outputs": [],
   "source": [
    "# Source of data\n",
    "OXYMETER = \"https://www.seanoe.org/data/00453/56501/data/58190.csv\"\n",
    "TSUNAMI_METER = \"http://www.seanoe.org/data/00454/56522/data/58210.csv\"\n",
    "COSTOF2 = \"https://www.seanoe.org/data/00455/56627/data/58360.csv\"\n",
    "CTD = \"https://www.seanoe.org/data/00454/56528/data/58220.csv\"\n",
    "TURBIDITY_METER = \"https://www.seanoe.org/data/00454/56525/data/58214.csv\"\n",
    "ADCP = \"https://www.seanoe.org/data/00455/56665/data/58415.csv\""
   ]
  },
  {
   "cell_type": "markdown",
   "metadata": {},
   "source": [
    "## Imports"
   ]
  },
  {
   "cell_type": "markdown",
   "metadata": {},
   "source": [
    "Customarily, we import as follows:"
   ]
  },
  {
   "cell_type": "code",
   "execution_count": 2,
   "metadata": {},
   "outputs": [],
   "source": [
    "from mooda import WaterFrame\n",
    "from mooda.access import EGIM\n",
    "import matplotlib.pyplot as plt"
   ]
  },
  {
   "cell_type": "markdown",
   "metadata": {},
   "source": [
    "## Object creation"
   ]
  },
  {
   "cell_type": "markdown",
   "metadata": {},
   "source": [
    "A WaterFrame is an object that contains a Panas DataFrame that contains the time series, a dictionary with the metadata and a dictionary with the meaning of the parameters (keys) of the time series.\n",
    "\n",
    "The class EGIM contains methods to open and download data from the DMP and RAW data from the EMSO sites. It returns a WaterFrame object."
   ]
  },
  {
   "cell_type": "code",
   "execution_count": 3,
   "metadata": {
    "collapsed": true
   },
   "outputs": [],
   "source": [
    "# You can change the source of data. We are going to use the CTD data\n",
    "source = CTD\n",
    "\n",
    "# wf is a WaterFrame object\n",
    "# The function has to download the raw data from the webpage, so it takes a while.\n",
    "# mooda v0.2.0-alpha can only open raw data from EMSO-Azores \n",
    "wf = EGIM.from_raw_csv(observatory=\"EMSO-Azores\", path=source)"
   ]
  },
  {
   "cell_type": "code",
   "execution_count": 4,
   "metadata": {},
   "outputs": [
    {
     "data": {
      "text/plain": [
       "Memory usage: 2.24 MBytes\n",
       "Parameters:\n",
       "  - TEMP:  Temperature of the water column (degree_Celsius)\n",
       "    - Min value: 4.381\n",
       "    - Date min value: 2018-03-04 03:15:00\n",
       "    - Max value: 36.687\n",
       "    - Date max value: 2017-07-16 17:30:00\n",
       "    - Mean value: 4.730\n",
       "    - Values with QC = 1: 0.000 %\n",
       "  - CNDC: Electrical conductivity of the water column (S/m)\n",
       "    - Min value: 0.003\n",
       "    - Date min value: 2017-07-17 07:15:00\n",
       "    - Max value: 5.354\n",
       "    - Date max value: 2017-07-17 14:45:00\n",
       "    - Mean value: 3.359\n",
       "    - Values with QC = 1: 0.000 %\n",
       "  - MPMN: Moored instrument depth (meters)\n",
       "    - Min value: -1.517\n",
       "    - Date min value: 2017-07-17 11:00:00\n",
       "    - Max value: 1723.860\n",
       "    - Date max value: 2018-02-02 03:15:00\n",
       "    - Mean value: 1711.334\n",
       "    - Values with QC = 1: 0.000 %\n",
       "  - PSAL: Salinity of the water column (PSU)\n",
       "    - Min value: 0.020\n",
       "    - Date min value: 2017-07-17 07:00:00\n",
       "    - Max value: 36.342\n",
       "    - Date max value: 2017-07-17 14:45:00\n",
       "    - Mean value: 34.746\n",
       "    - Values with QC = 1: 0.000 %\n",
       "  - SVEL: Sound velocity of the water column (meters/second)\n",
       "    - Min value: 1492.511\n",
       "    - Date min value: 2017-07-17 04:00:00\n",
       "    - Max value: 1532.897\n",
       "    - Date max value: 2017-07-17 14:45:00\n",
       "    - Mean value: 1497.523\n",
       "    - Values with QC = 1: 0.000 %"
      ]
     },
     "execution_count": 4,
     "metadata": {},
     "output_type": "execute_result"
    }
   ],
   "source": [
    "wf"
   ]
  },
  {
   "cell_type": "markdown",
   "metadata": {},
   "source": [
    "## View data, metadata and meenings"
   ]
  },
  {
   "cell_type": "markdown",
   "metadata": {},
   "source": [
    "Print metadata information."
   ]
  },
  {
   "cell_type": "code",
   "execution_count": 5,
   "metadata": {},
   "outputs": [
    {
     "name": "stdout",
     "output_type": "stream",
     "text": [
      "Metadata:\n",
      "  - site_code: Azores\n",
      "  - platform_code: EMSO-Azores\n",
      "  - data_mode: D\n",
      "  - title: Data from EGIM in the EMSO Site Azores\n",
      "  - summary: This dataset contains pressure data acquired between July 2017 and August 2018 on EMSO-Azores observatory by the EGIM. The pressure is one of the 7 core parameters monitored by the EGIM, EMSO Generic Instrumental Module. The EGIM prototype was deployed at Lucky Strike hydrothermal vent site, 25 m south west of the active edifice Tour Eiffel, to monitor local hydrodynamic variability and complement the data obtained by the numerous sensors set on this site: oceanographic mooring deployed south of the vent field, the multidisciplinary Seamon East node, autonomous current meters, array of temperature probes.\n",
      "  - source: subsurface mooring\n",
      "  - institution: Ifremer, CNRS, IPGP\n",
      "  - project: EMSODEV\n",
      "  - keywords_vocabulary: GCMD Science Keywords\n",
      "  - comment: Test data\n",
      "  - geospatial_lat_min: 37.289433\n",
      "  - geospatial_lat_max: 37.289433\n",
      "  - geospatial_lat_units: degree_north\n",
      "  - geospatial_lon_min: -32.277567\n",
      "  - geospatial_lon_mX: -32.277567\n",
      "  - geospatial_lon_units: degree_east\n",
      "  - geospatial_vertical_min: 17.841\n",
      "  - geospatial_vertical_max: 19.879\n",
      "  - geospatial_vertical_positive: down\n",
      "  - geospatial_vertical_units: meter\n",
      "  - time_coverage_start: 2017-07-01T00:00:00Z\n",
      "  - time_coverage_end: 2018-08-31T00:00:00Z\n",
      "  - time_coverage_resolution: PT30S\n",
      "  - cmd_data_type: Station\n",
      "  - data_type: OceanSITES time-series data\n",
      "  - format_version: 1.3\n",
      "  - references: http://www.oceansites.org, http://emso.eu\n",
      "  - update_interval: void\n",
      "  - license: https://creativecommons.org/licenses/by/4.0/\n",
      "  - citation: These data were collected and made freely available by the EMSODEV project.\n",
      "  - acknowledgement: This work benefited from the H2020 INFRADEV-3-2015 EMSODEV Project n°676555.\n",
      "  - date_created: 2018-10-10T15:08:38.Z\n",
      "  - date_modified: 2018-10-10T15:08:38.Z\n",
      "  - history: Data collected and processed with MOODA\n",
      "  - processing_level: Ranges applied, bad data flagged\n",
      "  - QC_indicator: excellent\n",
      "  - contributor_name: EMSODEV project\n",
      "  - contributor_role: consortium\n"
     ]
    }
   ],
   "source": [
    "info_metadata = wf.info_metadata()\n",
    "print(\"Metadata:\\n{}\".format(info_metadata))"
   ]
  },
  {
   "cell_type": "markdown",
   "metadata": {},
   "source": [
    "The method that loads the RAW data renames the measurement parameters following the OceanSites recommendation. For example, TEMPERATURE is TEMP, and SALINITY is PSAL.\n",
    "\n",
    "Print the information of the meanings to know the meaning of the data parameters."
   ]
  },
  {
   "cell_type": "code",
   "execution_count": 6,
   "metadata": {},
   "outputs": [
    {
     "name": "stdout",
     "output_type": "stream",
     "text": [
      "Meanings:\n",
      "  - TEMP\n",
      "    - long_name:  Temperature of the water column\n",
      "    - units: degree_Celsius\n",
      "  - CNDC\n",
      "    - long_name: Electrical conductivity of the water column\n",
      "    - units: S/m\n",
      "  - MPMN\n",
      "    - long_name: Moored instrument depth\n",
      "    - units: meters\n",
      "  - PSAL\n",
      "    - long_name: Salinity of the water column\n",
      "    - units: PSU\n",
      "  - SVEL\n",
      "    - long_name: Sound velocity of the water column\n",
      "    - units: meters/second\n"
     ]
    }
   ],
   "source": [
    "info_meaning = wf.info_meaning()\n",
    "print(\"Meanings:\\n{}\".format(info_meaning))"
   ]
  },
  {
   "cell_type": "markdown",
   "metadata": {},
   "source": [
    "The time series are stored into a Pandas DataFrame so that you can play with it with all the Pandas functionalities."
   ]
  },
  {
   "cell_type": "code",
   "execution_count": 7,
   "metadata": {
    "collapsed": true
   },
   "outputs": [],
   "source": [
    "df = wf.data"
   ]
  },
  {
   "cell_type": "code",
   "execution_count": 8,
   "metadata": {},
   "outputs": [
    {
     "data": {
      "text/html": [
       "<div>\n",
       "<style scoped>\n",
       "    .dataframe tbody tr th:only-of-type {\n",
       "        vertical-align: middle;\n",
       "    }\n",
       "\n",
       "    .dataframe tbody tr th {\n",
       "        vertical-align: top;\n",
       "    }\n",
       "\n",
       "    .dataframe thead th {\n",
       "        text-align: right;\n",
       "    }\n",
       "</style>\n",
       "<table border=\"1\" class=\"dataframe\">\n",
       "  <thead>\n",
       "    <tr style=\"text-align: right;\">\n",
       "      <th></th>\n",
       "      <th>TEMP</th>\n",
       "      <th>CNDC</th>\n",
       "      <th>MPMN</th>\n",
       "      <th>PSAL</th>\n",
       "      <th>SVEL</th>\n",
       "      <th>TEMP_QC</th>\n",
       "      <th>CNDC_QC</th>\n",
       "      <th>MPMN_QC</th>\n",
       "      <th>PSAL_QC</th>\n",
       "      <th>SVEL_QC</th>\n",
       "    </tr>\n",
       "    <tr>\n",
       "      <th>TIME</th>\n",
       "      <th></th>\n",
       "      <th></th>\n",
       "      <th></th>\n",
       "      <th></th>\n",
       "      <th></th>\n",
       "      <th></th>\n",
       "      <th></th>\n",
       "      <th></th>\n",
       "      <th></th>\n",
       "      <th></th>\n",
       "    </tr>\n",
       "  </thead>\n",
       "  <tbody>\n",
       "    <tr>\n",
       "      <th>2017-07-12 16:45:00</th>\n",
       "      <td>29.2853</td>\n",
       "      <td>0.01731</td>\n",
       "      <td>-0.346</td>\n",
       "      <td>0.0792</td>\n",
       "      <td>1507.558</td>\n",
       "      <td>0</td>\n",
       "      <td>0</td>\n",
       "      <td>0</td>\n",
       "      <td>0</td>\n",
       "      <td>0</td>\n",
       "    </tr>\n",
       "    <tr>\n",
       "      <th>2017-07-12 17:00:00</th>\n",
       "      <td>29.2997</td>\n",
       "      <td>0.01723</td>\n",
       "      <td>-0.584</td>\n",
       "      <td>0.0789</td>\n",
       "      <td>1507.588</td>\n",
       "      <td>0</td>\n",
       "      <td>0</td>\n",
       "      <td>0</td>\n",
       "      <td>0</td>\n",
       "      <td>0</td>\n",
       "    </tr>\n",
       "    <tr>\n",
       "      <th>2017-07-12 17:15:00</th>\n",
       "      <td>29.0609</td>\n",
       "      <td>0.01709</td>\n",
       "      <td>-0.562</td>\n",
       "      <td>0.0786</td>\n",
       "      <td>1507.023</td>\n",
       "      <td>0</td>\n",
       "      <td>0</td>\n",
       "      <td>0</td>\n",
       "      <td>0</td>\n",
       "      <td>0</td>\n",
       "    </tr>\n",
       "    <tr>\n",
       "      <th>2017-07-12 17:30:00</th>\n",
       "      <td>29.1935</td>\n",
       "      <td>0.01715</td>\n",
       "      <td>-0.699</td>\n",
       "      <td>0.0787</td>\n",
       "      <td>1507.335</td>\n",
       "      <td>0</td>\n",
       "      <td>0</td>\n",
       "      <td>0</td>\n",
       "      <td>0</td>\n",
       "      <td>0</td>\n",
       "    </tr>\n",
       "    <tr>\n",
       "      <th>2017-07-12 17:45:00</th>\n",
       "      <td>29.0288</td>\n",
       "      <td>0.01711</td>\n",
       "      <td>-0.678</td>\n",
       "      <td>0.0787</td>\n",
       "      <td>1506.945</td>\n",
       "      <td>0</td>\n",
       "      <td>0</td>\n",
       "      <td>0</td>\n",
       "      <td>0</td>\n",
       "      <td>0</td>\n",
       "    </tr>\n",
       "  </tbody>\n",
       "</table>\n",
       "</div>"
      ],
      "text/plain": [
       "                        TEMP     CNDC   MPMN    PSAL      SVEL  TEMP_QC  \\\n",
       "TIME                                                                      \n",
       "2017-07-12 16:45:00  29.2853  0.01731 -0.346  0.0792  1507.558        0   \n",
       "2017-07-12 17:00:00  29.2997  0.01723 -0.584  0.0789  1507.588        0   \n",
       "2017-07-12 17:15:00  29.0609  0.01709 -0.562  0.0786  1507.023        0   \n",
       "2017-07-12 17:30:00  29.1935  0.01715 -0.699  0.0787  1507.335        0   \n",
       "2017-07-12 17:45:00  29.0288  0.01711 -0.678  0.0787  1506.945        0   \n",
       "\n",
       "                     CNDC_QC  MPMN_QC  PSAL_QC  SVEL_QC  \n",
       "TIME                                                     \n",
       "2017-07-12 16:45:00        0        0        0        0  \n",
       "2017-07-12 17:00:00        0        0        0        0  \n",
       "2017-07-12 17:15:00        0        0        0        0  \n",
       "2017-07-12 17:30:00        0        0        0        0  \n",
       "2017-07-12 17:45:00        0        0        0        0  "
      ]
     },
     "execution_count": 8,
     "metadata": {},
     "output_type": "execute_result"
    }
   ],
   "source": [
    "df.head()"
   ]
  },
  {
   "cell_type": "markdown",
   "metadata": {},
   "source": [
    "## QC generation "
   ]
  },
  {
   "cell_type": "markdown",
   "metadata": {},
   "source": [
    "As you can see in the previous output, the data frame contains some column names with a \"_ QC.\" Those columns contain the QC flag values of the associated measurement parameter. All numbers of the QC columns are 0, that means that the measurements have not passed any QC test.\n",
    "\n",
    "There is a function that performs all the QC tests automatically, but in this case we will call the functions manually to understand what we are doing.\n",
    "\n",
    "In this example, we are going to use the following flag convention:\n",
    "\n",
    "* Flag = 1 -> Good data.\n",
    "* Flag = 2 -> Data did not pass the Flat test (it contains equal consecutive values).\n",
    "* Flag = 3 -> Data did not pass the Spike test (it is a spike or part of a big spike).\n",
    "* Flag = 4 -> Data did not pass the Range test (it is not into a reasonable range of the parameter)."
   ]
  },
  {
   "cell_type": "code",
   "execution_count": 9,
   "metadata": {},
   "outputs": [
    {
     "name": "stdout",
     "output_type": "stream",
     "text": [
      "Data before the QC tests:\n"
     ]
    },
    {
     "data": {
      "text/html": [
       "<div>\n",
       "<style scoped>\n",
       "    .dataframe tbody tr th:only-of-type {\n",
       "        vertical-align: middle;\n",
       "    }\n",
       "\n",
       "    .dataframe tbody tr th {\n",
       "        vertical-align: top;\n",
       "    }\n",
       "\n",
       "    .dataframe thead th {\n",
       "        text-align: right;\n",
       "    }\n",
       "</style>\n",
       "<table border=\"1\" class=\"dataframe\">\n",
       "  <thead>\n",
       "    <tr style=\"text-align: right;\">\n",
       "      <th></th>\n",
       "      <th>TEMP</th>\n",
       "      <th>CNDC</th>\n",
       "      <th>MPMN</th>\n",
       "      <th>PSAL</th>\n",
       "      <th>SVEL</th>\n",
       "      <th>TEMP_QC</th>\n",
       "      <th>CNDC_QC</th>\n",
       "      <th>MPMN_QC</th>\n",
       "      <th>PSAL_QC</th>\n",
       "      <th>SVEL_QC</th>\n",
       "    </tr>\n",
       "    <tr>\n",
       "      <th>TIME</th>\n",
       "      <th></th>\n",
       "      <th></th>\n",
       "      <th></th>\n",
       "      <th></th>\n",
       "      <th></th>\n",
       "      <th></th>\n",
       "      <th></th>\n",
       "      <th></th>\n",
       "      <th></th>\n",
       "      <th></th>\n",
       "    </tr>\n",
       "  </thead>\n",
       "  <tbody>\n",
       "    <tr>\n",
       "      <th>2017-07-12 16:45:00</th>\n",
       "      <td>29.2853</td>\n",
       "      <td>0.01731</td>\n",
       "      <td>-0.346</td>\n",
       "      <td>0.0792</td>\n",
       "      <td>1507.558</td>\n",
       "      <td>0</td>\n",
       "      <td>0</td>\n",
       "      <td>0</td>\n",
       "      <td>0</td>\n",
       "      <td>0</td>\n",
       "    </tr>\n",
       "    <tr>\n",
       "      <th>2017-07-12 17:00:00</th>\n",
       "      <td>29.2997</td>\n",
       "      <td>0.01723</td>\n",
       "      <td>-0.584</td>\n",
       "      <td>0.0789</td>\n",
       "      <td>1507.588</td>\n",
       "      <td>0</td>\n",
       "      <td>0</td>\n",
       "      <td>0</td>\n",
       "      <td>0</td>\n",
       "      <td>0</td>\n",
       "    </tr>\n",
       "    <tr>\n",
       "      <th>2017-07-12 17:15:00</th>\n",
       "      <td>29.0609</td>\n",
       "      <td>0.01709</td>\n",
       "      <td>-0.562</td>\n",
       "      <td>0.0786</td>\n",
       "      <td>1507.023</td>\n",
       "      <td>0</td>\n",
       "      <td>0</td>\n",
       "      <td>0</td>\n",
       "      <td>0</td>\n",
       "      <td>0</td>\n",
       "    </tr>\n",
       "    <tr>\n",
       "      <th>2017-07-12 17:30:00</th>\n",
       "      <td>29.1935</td>\n",
       "      <td>0.01715</td>\n",
       "      <td>-0.699</td>\n",
       "      <td>0.0787</td>\n",
       "      <td>1507.335</td>\n",
       "      <td>0</td>\n",
       "      <td>0</td>\n",
       "      <td>0</td>\n",
       "      <td>0</td>\n",
       "      <td>0</td>\n",
       "    </tr>\n",
       "    <tr>\n",
       "      <th>2017-07-12 17:45:00</th>\n",
       "      <td>29.0288</td>\n",
       "      <td>0.01711</td>\n",
       "      <td>-0.678</td>\n",
       "      <td>0.0787</td>\n",
       "      <td>1506.945</td>\n",
       "      <td>0</td>\n",
       "      <td>0</td>\n",
       "      <td>0</td>\n",
       "      <td>0</td>\n",
       "      <td>0</td>\n",
       "    </tr>\n",
       "  </tbody>\n",
       "</table>\n",
       "</div>"
      ],
      "text/plain": [
       "                        TEMP     CNDC   MPMN    PSAL      SVEL  TEMP_QC  \\\n",
       "TIME                                                                      \n",
       "2017-07-12 16:45:00  29.2853  0.01731 -0.346  0.0792  1507.558        0   \n",
       "2017-07-12 17:00:00  29.2997  0.01723 -0.584  0.0789  1507.588        0   \n",
       "2017-07-12 17:15:00  29.0609  0.01709 -0.562  0.0786  1507.023        0   \n",
       "2017-07-12 17:30:00  29.1935  0.01715 -0.699  0.0787  1507.335        0   \n",
       "2017-07-12 17:45:00  29.0288  0.01711 -0.678  0.0787  1506.945        0   \n",
       "\n",
       "                     CNDC_QC  MPMN_QC  PSAL_QC  SVEL_QC  \n",
       "TIME                                                     \n",
       "2017-07-12 16:45:00        0        0        0        0  \n",
       "2017-07-12 17:00:00        0        0        0        0  \n",
       "2017-07-12 17:15:00        0        0        0        0  \n",
       "2017-07-12 17:30:00        0        0        0        0  \n",
       "2017-07-12 17:45:00        0        0        0        0  "
      ]
     },
     "execution_count": 9,
     "metadata": {},
     "output_type": "execute_result"
    }
   ],
   "source": [
    "print(\"Data before the QC tests:\")\n",
    "df.head()"
   ]
  },
  {
   "cell_type": "code",
   "execution_count": 10,
   "metadata": {},
   "outputs": [
    {
     "name": "stdout",
     "output_type": "stream",
     "text": [
      "Data after QC tests:\n"
     ]
    },
    {
     "data": {
      "text/html": [
       "<div>\n",
       "<style scoped>\n",
       "    .dataframe tbody tr th:only-of-type {\n",
       "        vertical-align: middle;\n",
       "    }\n",
       "\n",
       "    .dataframe tbody tr th {\n",
       "        vertical-align: top;\n",
       "    }\n",
       "\n",
       "    .dataframe thead th {\n",
       "        text-align: right;\n",
       "    }\n",
       "</style>\n",
       "<table border=\"1\" class=\"dataframe\">\n",
       "  <thead>\n",
       "    <tr style=\"text-align: right;\">\n",
       "      <th></th>\n",
       "      <th>TEMP</th>\n",
       "      <th>CNDC</th>\n",
       "      <th>MPMN</th>\n",
       "      <th>PSAL</th>\n",
       "      <th>SVEL</th>\n",
       "      <th>TEMP_QC</th>\n",
       "      <th>CNDC_QC</th>\n",
       "      <th>MPMN_QC</th>\n",
       "      <th>PSAL_QC</th>\n",
       "      <th>SVEL_QC</th>\n",
       "    </tr>\n",
       "    <tr>\n",
       "      <th>TIME</th>\n",
       "      <th></th>\n",
       "      <th></th>\n",
       "      <th></th>\n",
       "      <th></th>\n",
       "      <th></th>\n",
       "      <th></th>\n",
       "      <th></th>\n",
       "      <th></th>\n",
       "      <th></th>\n",
       "      <th></th>\n",
       "    </tr>\n",
       "  </thead>\n",
       "  <tbody>\n",
       "    <tr>\n",
       "      <th>2017-07-12 16:45:00</th>\n",
       "      <td>29.2853</td>\n",
       "      <td>0.01731</td>\n",
       "      <td>-0.346</td>\n",
       "      <td>0.0792</td>\n",
       "      <td>1507.558</td>\n",
       "      <td>1</td>\n",
       "      <td>1</td>\n",
       "      <td>1</td>\n",
       "      <td>1</td>\n",
       "      <td>3</td>\n",
       "    </tr>\n",
       "    <tr>\n",
       "      <th>2017-07-12 17:00:00</th>\n",
       "      <td>29.2997</td>\n",
       "      <td>0.01723</td>\n",
       "      <td>-0.584</td>\n",
       "      <td>0.0789</td>\n",
       "      <td>1507.588</td>\n",
       "      <td>1</td>\n",
       "      <td>1</td>\n",
       "      <td>1</td>\n",
       "      <td>1</td>\n",
       "      <td>3</td>\n",
       "    </tr>\n",
       "    <tr>\n",
       "      <th>2017-07-12 17:15:00</th>\n",
       "      <td>29.0609</td>\n",
       "      <td>0.01709</td>\n",
       "      <td>-0.562</td>\n",
       "      <td>0.0786</td>\n",
       "      <td>1507.023</td>\n",
       "      <td>1</td>\n",
       "      <td>1</td>\n",
       "      <td>1</td>\n",
       "      <td>1</td>\n",
       "      <td>3</td>\n",
       "    </tr>\n",
       "    <tr>\n",
       "      <th>2017-07-12 17:30:00</th>\n",
       "      <td>29.1935</td>\n",
       "      <td>0.01715</td>\n",
       "      <td>-0.699</td>\n",
       "      <td>0.0787</td>\n",
       "      <td>1507.335</td>\n",
       "      <td>1</td>\n",
       "      <td>1</td>\n",
       "      <td>1</td>\n",
       "      <td>1</td>\n",
       "      <td>3</td>\n",
       "    </tr>\n",
       "    <tr>\n",
       "      <th>2017-07-12 17:45:00</th>\n",
       "      <td>29.0288</td>\n",
       "      <td>0.01711</td>\n",
       "      <td>-0.678</td>\n",
       "      <td>0.0787</td>\n",
       "      <td>1506.945</td>\n",
       "      <td>1</td>\n",
       "      <td>1</td>\n",
       "      <td>1</td>\n",
       "      <td>2</td>\n",
       "      <td>3</td>\n",
       "    </tr>\n",
       "  </tbody>\n",
       "</table>\n",
       "</div>"
      ],
      "text/plain": [
       "                        TEMP     CNDC   MPMN    PSAL      SVEL  TEMP_QC  \\\n",
       "TIME                                                                      \n",
       "2017-07-12 16:45:00  29.2853  0.01731 -0.346  0.0792  1507.558        1   \n",
       "2017-07-12 17:00:00  29.2997  0.01723 -0.584  0.0789  1507.588        1   \n",
       "2017-07-12 17:15:00  29.0609  0.01709 -0.562  0.0786  1507.023        1   \n",
       "2017-07-12 17:30:00  29.1935  0.01715 -0.699  0.0787  1507.335        1   \n",
       "2017-07-12 17:45:00  29.0288  0.01711 -0.678  0.0787  1506.945        1   \n",
       "\n",
       "                     CNDC_QC  MPMN_QC  PSAL_QC  SVEL_QC  \n",
       "TIME                                                     \n",
       "2017-07-12 16:45:00        1        1        1        3  \n",
       "2017-07-12 17:00:00        1        1        1        3  \n",
       "2017-07-12 17:15:00        1        1        1        3  \n",
       "2017-07-12 17:30:00        1        1        1        3  \n",
       "2017-07-12 17:45:00        1        1        2        3  "
      ]
     },
     "execution_count": 10,
     "metadata": {},
     "output_type": "execute_result"
    }
   ],
   "source": [
    "# wf.parameters() returns a list of all DataFrame column name without \"_QC\".\n",
    "for parameter in wf.parameters():\n",
    "\n",
    "    # Gross range test: The function checks if each value is in the reasonable range of the parameter.\n",
    "    wf.reset_flag(key=parameter)\n",
    "    wf.range_test(key=parameter, flag=4)\n",
    "    # Spike test: It detects spikes in a timeserie.\n",
    "    wf.spike_test(key=parameter,flag=3)\n",
    "    # Flat test: It detects no changes in values of time-series.\n",
    "    wf.flat_test(key=parameter,flag=2)\n",
    "    # Change all values that still are 0, to 1.\n",
    "    wf.flag2flag(key=parameter, original_flag=0, translated_flag=1)\n",
    "    \n",
    "    \n",
    "print(\"Data after QC tests:\")\n",
    "df.head()"
   ]
  },
  {
   "cell_type": "markdown",
   "metadata": {},
   "source": [
    "## Other methods of the WaterFrame object"
   ]
  },
  {
   "cell_type": "markdown",
   "metadata": {},
   "source": [
    "In this section, I propose an example of analysis in which some of the methods of a WaterFrame are used. The example is not very useful in real life, but lets show how the methods are used.\n",
    "\n",
    "Imagine that we are only interested in data with QC Flag = 1 (good data), during January and February, averaged over time and we also want to change the name of the TEMP parameter to TEMPERATURE. The code to do it would be the following."
   ]
  },
  {
   "cell_type": "code",
   "execution_count": 11,
   "metadata": {},
   "outputs": [
    {
     "data": {
      "text/plain": [
       "Memory usage: 429.54 KBytes\n",
       "Parameters:\n",
       "  - TEMPERATURE:  Temperature of the water column (degree_Celsius)\n",
       "    - Min value: 4.384\n",
       "    - Date min value: 2018-01-15 04:45:00\n",
       "    - Max value: 4.788\n",
       "    - Date max value: 2018-01-29 01:15:00\n",
       "    - Mean value: 4.571\n",
       "    - Values with QC = 1: 100.000 %\n",
       "  - CNDC: Electrical conductivity of the water column (S/m)\n",
       "    - Min value: 3.356\n",
       "    - Date min value: 2018-01-06 19:00:00\n",
       "    - Max value: 3.401\n",
       "    - Date max value: 2018-01-29 01:15:00\n",
       "    - Mean value: 3.380\n",
       "    - Values with QC = 1: 100.000 %\n",
       "  - MPMN: Moored instrument depth (meters)\n",
       "    - Min value: 1722.502\n",
       "    - Date min value: 2018-02-28 07:00:00\n",
       "    - Max value: 1723.860\n",
       "    - Date max value: 2018-02-02 03:15:00\n",
       "    - Mean value: 1723.146\n",
       "    - Values with QC = 1: 100.000 %\n",
       "  - PSAL: Salinity of the water column (PSU)\n",
       "    - Min value: 34.710\n",
       "    - Date min value: 2018-01-06 19:00:00\n",
       "    - Max value: 34.998\n",
       "    - Date max value: 2018-01-27 04:00:00\n",
       "    - Mean value: 34.977\n",
       "    - Values with QC = 1: 100.000 %\n",
       "  - SVEL: Sound velocity of the water column (meters/second)\n",
       "    - Min value: 1496.662\n",
       "    - Date min value: 2018-01-15 04:45:00\n",
       "    - Max value: 1498.366\n",
       "    - Date max value: 2018-01-29 01:15:00\n",
       "    - Mean value: 1497.452\n",
       "    - Values with QC = 1: 100.000 %"
      ]
     },
     "execution_count": 11,
     "metadata": {},
     "output_type": "execute_result"
    }
   ],
   "source": [
    "# Only use data with QC flag = 1. The other data will be deleted. \n",
    "wf.use_only(flags=1)\n",
    "# Change name of the parameter \"TEMP\" to \"TEMPERATURE\"\n",
    "wf.rename(old_name=\"TEMP\", new_name=\"TEMPERATURE\")\n",
    "# Only use data from Jenuary and February\n",
    "# Dates are with the format AAAAMMDDhhmmss\n",
    "wf.slice_time(start=\"20180101000000\", end=\"20180301000000\")\n",
    "wf"
   ]
  },
  {
   "cell_type": "markdown",
   "metadata": {},
   "source": [
    "Before, the memory usage of our object was 2.24 MBytes. Now it is only 429.54 KBytes. If we wanted to continue analyzing it or sharing the data, with the new size, it would be much more convenient and faster."
   ]
  },
  {
   "cell_type": "markdown",
   "metadata": {},
   "source": [
    "## Plotting "
   ]
  },
  {
   "cell_type": "markdown",
   "metadata": {},
   "source": [
    "As I mentioned earlier, the data of the WaterFrame is placed into a Pandas DataFrame and you can use all the DataFrame plotting methods. However, there are a few more methods that could help you to have a first view of the data. Here you have the plotting techniques of a WaterFrame."
   ]
  },
  {
   "cell_type": "code",
   "execution_count": 12,
   "metadata": {
    "collapsed": true
   },
   "outputs": [],
   "source": [
    "# Magic function of Jupyter\n",
    "%matplotlib inline"
   ]
  },
  {
   "cell_type": "code",
   "execution_count": 20,
   "metadata": {},
   "outputs": [
    {
     "data": {
      "text/plain": [
       "<matplotlib.axes._subplots.AxesSubplot at 0x275ff9827b8>"
      ]
     },
     "execution_count": 20,
     "metadata": {},
     "output_type": "execute_result"
    },
    {
     "data": {
      "image/png": "[encoded data removed]",
      "text/plain": [
       "<matplotlib.figure.Figure at 0x27583d0c748>"
      ]
     },
     "metadata": {},
     "output_type": "display_data"
    }
   ],
   "source": [
    "# Ploting a bar graph with the count of the number of values with each QC flag value.\n",
    "# Now we have all values with QC Flag = 1.\n",
    "wf.qcbarplot()"
   ]
  },
  {
   "cell_type": "code",
   "execution_count": 13,
   "metadata": {},
   "outputs": [
    {
     "data": {
      "text/plain": [
       "<matplotlib.axes._subplots.AxesSubplot at 0x275fcd22b38>"
      ]
     },
     "execution_count": 13,
     "metadata": {},
     "output_type": "execute_result"
    },
    {
     "data": {
      "image/png": "[encoded data removed]",
      "text/plain": [
       "<matplotlib.figure.Figure at 0x275fcefeb00>"
      ]
     },
     "metadata": {},
     "output_type": "display_data"
    }
   ],
   "source": [
    "# Plot the time series of the TEMPERATURE parameter\n",
    "wf.tsplot(\"TEMPERATURE\")"
   ]
  },
  {
   "cell_type": "code",
   "execution_count": 16,
   "metadata": {},
   "outputs": [
    {
     "data": {
      "text/plain": [
       "array([[<matplotlib.axes._subplots.AxesSubplot object at 0x00000275FDC735F8>]], dtype=object)"
      ]
     },
     "execution_count": 16,
     "metadata": {},
     "output_type": "execute_result"
    },
    {
     "data": {
      "image/png": "[encoded data removed]",
      "text/plain": [
       "<matplotlib.figure.Figure at 0x275fddb7278>"
      ]
     },
     "metadata": {},
     "output_type": "display_data"
    }
   ],
   "source": [
    "# Plottig a histogram of the TEMPERATURE\n",
    "# The dashed line indicates the mean\n",
    "# 10 bins are used in the histogram.\n",
    "wf.hist(\"TEMPERATURE\", mean_line=True, bins=10)"
   ]
  },
  {
   "cell_type": "code",
   "execution_count": 17,
   "metadata": {},
   "outputs": [
    {
     "data": {
      "text/plain": [
       "<matplotlib.axes._subplots.AxesSubplot at 0x275fe89fb38>"
      ]
     },
     "execution_count": 17,
     "metadata": {},
     "output_type": "execute_result"
    },
    {
     "data": {
      "image/png": "[encoded data removed]",
      "text/plain": [
       "<matplotlib.figure.Figure at 0x27586fde748>"
      ]
     },
     "metadata": {},
     "output_type": "display_data"
    }
   ],
   "source": [
    "# Plotting a bar graph of the averaged values weekly.\n",
    "wf.barplot(\"TEMPERATURE\", average_time='W')"
   ]
  },
  {
   "cell_type": "code",
   "execution_count": 18,
   "metadata": {},
   "outputs": [
    {
     "data": {
      "text/plain": [
       "<matplotlib.axes._subplots.AxesSubplot at 0x275fe92b438>"
      ]
     },
     "execution_count": 18,
     "metadata": {},
     "output_type": "execute_result"
    },
    {
     "data": {
      "image/png": "[encoded data removed]",
      "text/plain": [
       "<matplotlib.figure.Figure at 0x275feab9278>"
      ]
     },
     "metadata": {},
     "output_type": "display_data"
    }
   ],
   "source": [
    "# Ploting the time-series but related with the QC flags.\n",
    "# Now we have all values with QC Flag = 1.\n",
    "wf.qcplot(\"TEMPERATURE\")"
   ]
  },
  {
   "cell_type": "markdown",
   "metadata": {},
   "source": [
    "## Save the WaterFrame after processed "
   ]
  },
  {
   "cell_type": "markdown",
   "metadata": {},
   "source": [
    "If you want to save your data again into a new file, you can do it into CSV or pikel."
   ]
  },
  {
   "cell_type": "code",
   "execution_count": 21,
   "metadata": {
    "collapsed": true
   },
   "outputs": [],
   "source": [
    "# Save into a pickle file\n",
    "wf.to_pickle(path=\"mydata.pkl\")"
   ]
  },
  {
   "cell_type": "code",
   "execution_count": 23,
   "metadata": {},
   "outputs": [
    {
     "data": {
      "text/plain": [
       "True"
      ]
     },
     "execution_count": 23,
     "metadata": {},
     "output_type": "execute_result"
    }
   ],
   "source": [
    "# Save into a CSV file following the EmodNet way\n",
    "wf.to_csv(path=\"mydata.csv\")"
   ]
  }
 ],
 "metadata": {
  "kernelspec": {
   "display_name": "Python 3",
   "language": "python",
   "name": "python3"
  },
  "language_info": {
   "codemirror_mode": {
    "name": "ipython",
    "version": 3
   },
   "file_extension": ".py",
   "mimetype": "text/x-python",
   "name": "python",
   "nbconvert_exporter": "python",
   "pygments_lexer": "ipython3",
   "version": "3.6.3"
  }
 },
 "nbformat": 4,
 "nbformat_minor": 2
}
