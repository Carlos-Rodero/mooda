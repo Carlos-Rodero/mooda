{
 "cells": [
  {
   "cell_type": "code",
   "execution_count": 1,
   "metadata": {},
   "outputs": [],
   "source": [
    "from mooda.access import EGIM"
   ]
  },
  {
   "cell_type": "code",
   "execution_count": 2,
   "metadata": {},
   "outputs": [],
   "source": [
    "egim = EGIM(\"login\", \"password\")"
   ]
  },
  {
   "cell_type": "code",
   "execution_count": 3,
   "metadata": {},
   "outputs": [
    {
     "name": "stdout",
     "output_type": "stream",
     "text": [
      "0 EMSODEV-EGIM-node00001\n"
     ]
    }
   ],
   "source": [
    "code, observatories = egim.observatories()\n",
    "if code == 200:\n",
    "    for i, observatory in enumerate(observatories):\n",
    "        print(i, observatory)\n",
    "else:\n",
    "    print(\"Error code:\", code)"
   ]
  },
  {
   "cell_type": "code",
   "execution_count": 4,
   "metadata": {},
   "outputs": [
    {
     "name": "stdout",
     "output_type": "stream",
     "text": [
      "0 Ifremer G390401\n",
      "1 SBE37-SIP-P7000-RS232\n",
      "2 AADI-3005214831 DW4831\n",
      "3 WETlabs ECO NTUrtd\n",
      "4 SBE54 Tsunami meter\n",
      "5 TELEDYNE RDI Workhorse monitor\n",
      "6 OceanSonics icListen SB60L-ETH\n"
     ]
    }
   ],
   "source": [
    "code, instruments = egim.instruments(observatory)\n",
    "if code == 200:\n",
    "    for i, instrument in enumerate(instruments):\n",
    "        print(i, instrument['sensorLongName'])\n",
    "else:\n",
    "    print(\"Error code:\", code)"
   ]
  },
  {
   "cell_type": "code",
   "execution_count": 5,
   "metadata": {},
   "outputs": [
    {
     "name": "stdout",
     "output_type": "stream",
     "text": [
      "0 salinity\n",
      "1 depth\n",
      "2 conductivity\n",
      "3 sea_water_temperature\n",
      "4 sound_velocity\n"
     ]
    }
   ],
   "source": [
    "instrument_ctd = instruments[1]['name']\n",
    "code, parameters = egim.parameters(observatory, instrument_ctd)\n",
    "if code == 200:\n",
    "    for i, parameter in enumerate(parameters):\n",
    "        print(i, parameter['name'])\n",
    "else:\n",
    "    print(\"Error code:\", code)"
   ]
  },
  {
   "cell_type": "code",
   "execution_count": 6,
   "metadata": {},
   "outputs": [
    {
     "name": "stdout",
     "output_type": "stream",
     "text": [
      "                     sea_water_temperature\n",
      "TIME                                      \n",
      "2017-02-01 14:10:34                13.1436\n",
      "2017-02-01 14:10:44                13.1437\n",
      "2017-02-01 14:10:54                13.1434\n",
      "2017-02-01 14:11:04                13.1433\n",
      "2017-02-01 14:11:14                13.1430\n"
     ]
    }
   ],
   "source": [
    "parameter = parameters[3]['name']\n",
    "code, observation = egim.observation(observatory, instrument_ctd, parameter,\n",
    "                                     startDate=\"01/02/2017\",\n",
    "                                     endDate=\"02/02/2017\")\n",
    "if code == 200:\n",
    "    print(observation.head())\n",
    "else:\n",
    "    print(\"Error code:\", code)"
   ]
  },
  {
   "cell_type": "code",
   "execution_count": 7,
   "metadata": {},
   "outputs": [
    {
     "name": "stdout",
     "output_type": "stream",
     "text": [
      "EGIMLocation OBSEA_test_site\n",
      "EGIMNodeURL http://www.upc.edu/cdsarti/OBSEA/SWE/files/EGIM_status.xml\n",
      "SOSOfferingID SBE37_data\n",
      "SOSProcedureID 37-14998\n",
      "SpatialSamplingPointID sbe37_data\n",
      "SpatialSamplingPointName SBE37\n",
      "EGIMPosition 41.1819,1.7527\n",
      "EGIMPositionSRSName http://www.opengis.net/def/crs/EPSG/0/4326\n",
      "OMResultType measurement\n",
      "EGIMNode EMSODEV:EGIM:node00001\n",
      "OMObservationType http://www.opengis.net/def/observationType/OGC-OM/2.0/OM_ComplexObservation\n",
      "SpatialSamplingPointIdentifier SBE37_data\n",
      "OMSpatialSamplingPointNameType http://www.opengis.net/def/samplingFeatureType/OGC-OM/2.0/SF_SamplingPoint\n"
     ]
    }
   ],
   "source": [
    "code, metadata = egim.metadata(observatory, instrument_ctd)\n",
    "if code == 200:\n",
    "    for key in metadata:\n",
    "        print(key, metadata[key])\n",
    "else:\n",
    "    print(\"Error code:\", code)"
   ]
  },
  {
   "cell_type": "code",
   "execution_count": 8,
   "metadata": {},
   "outputs": [
    {
     "name": "stdout",
     "output_type": "stream",
     "text": [
      "Memory usage: 85.56 KBytes\n",
      "Parameters:\n",
      "  - TEMP: sea_water_temperature (degree Celsius)\n",
      "    - Min value: 13.143\n",
      "    - Date min value: 2017-02-01 14:12:14\n",
      "    - Max value: 13.177\n",
      "    - Date max value: 2017-02-01 20:04:54\n",
      "    - Mean value: 13.166\n",
      "    - Values with QC = 1: 0.000 %\n"
     ]
    }
   ],
   "source": [
    "wf = egim.to_waterframe(observation, metadata)\n",
    "print(wf)"
   ]
  },
  {
   "cell_type": "code",
   "execution_count": 9,
   "metadata": {},
   "outputs": [
    {
     "data": {
      "text/plain": [
       "<matplotlib.axes._subplots.AxesSubplot at 0x1bac97b1dd8>"
      ]
     },
     "execution_count": 9,
     "metadata": {},
     "output_type": "execute_result"
    },
    {
     "data": {
      "image/png": "[encoded data removed]",
      "text/plain": [
       "<Figure size 432x288 with 1 Axes>"
      ]
     },
     "metadata": {
      "needs_background": "light"
     },
     "output_type": "display_data"
    }
   ],
   "source": [
    "wf.tsplot('TEMP')"
   ]
  },
  {
   "cell_type": "code",
   "execution_count": null,
   "metadata": {},
   "outputs": [],
   "source": []
  }
 ],
 "metadata": {
  "kernelspec": {
   "display_name": "Python 3",
   "language": "python",
   "name": "python3"
  },
  "language_info": {
   "codemirror_mode": {
    "name": "ipython",
    "version": 3
   },
   "file_extension": ".py",
   "mimetype": "text/x-python",
   "name": "python",
   "nbconvert_exporter": "python",
   "pygments_lexer": "ipython3",
   "version": "3.7.0"
  }
 },
 "nbformat": 4,
 "nbformat_minor": 2
}
